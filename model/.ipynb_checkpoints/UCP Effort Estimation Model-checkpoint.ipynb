{
 "cells": [
  {
   "cell_type": "code",
   "execution_count": 1,
   "metadata": {
    "collapsed": false
   },
   "outputs": [],
   "source": [
    "# data analysis\n",
    "import numpy as np\n",
    "import pandas as pd\n",
    "\n",
    "# visualization\n",
    "import matplotlib.pyplot as plt\n",
    "import seaborn as sns\n",
    "%matplotlib inline\n",
    "# digunakan untuk menampilkan plot secara instan\n",
    "\n",
    "# machine learning\n",
    "from sklearn.svm import SVR\n",
    "from sklearn import linear_model\n",
    "\n",
    "# model persistence\n",
    "from sklearn.externals import joblib"
   ]
  },
  {
   "cell_type": "code",
   "execution_count": 2,
   "metadata": {
    "collapsed": true
   },
   "outputs": [],
   "source": [
    "convert_dot = lambda x: x.replace(',','.')"
   ]
  },
  {
   "cell_type": "code",
   "execution_count": 3,
   "metadata": {
    "collapsed": true
   },
   "outputs": [],
   "source": [
    "df = pd.read_csv('UCP_Dataset.csv', sep=';')"
   ]
  },
  {
   "cell_type": "markdown",
   "metadata": {},
   "source": [
    "## Data Wrangling"
   ]
  },
  {
   "cell_type": "code",
   "execution_count": 7,
   "metadata": {
    "collapsed": false
   },
   "outputs": [
    {
     "data": {
      "text/html": [
       "<div>\n",
       "<table border=\"1\" class=\"dataframe\">\n",
       "  <thead>\n",
       "    <tr style=\"text-align: right;\">\n",
       "      <th></th>\n",
       "      <th>Project_No</th>\n",
       "      <th>Simple Actors</th>\n",
       "      <th>Average Actors</th>\n",
       "      <th>Complex Actors</th>\n",
       "      <th>UAW</th>\n",
       "      <th>Simple UC</th>\n",
       "      <th>Average UC</th>\n",
       "      <th>Complex UC</th>\n",
       "      <th>UUCW</th>\n",
       "      <th>TCF</th>\n",
       "      <th>ECF</th>\n",
       "      <th>Real_P20</th>\n",
       "      <th>Real_Effort_Person_Hours</th>\n",
       "      <th>Sector</th>\n",
       "      <th>Language</th>\n",
       "      <th>Methodology</th>\n",
       "      <th>ApplicationType</th>\n",
       "      <th>DataDonator</th>\n",
       "    </tr>\n",
       "  </thead>\n",
       "  <tbody>\n",
       "    <tr>\n",
       "      <th>0</th>\n",
       "      <td>1</td>\n",
       "      <td>1.0</td>\n",
       "      <td>1</td>\n",
       "      <td>2</td>\n",
       "      <td>9</td>\n",
       "      <td>6</td>\n",
       "      <td>10</td>\n",
       "      <td>15</td>\n",
       "      <td>355</td>\n",
       "      <td>0.81</td>\n",
       "      <td>0.84</td>\n",
       "      <td>398,5</td>\n",
       "      <td>7970</td>\n",
       "      <td>Manufacturing</td>\n",
       "      <td>Java</td>\n",
       "      <td>NaN</td>\n",
       "      <td>NaN</td>\n",
       "      <td>D1</td>\n",
       "    </tr>\n",
       "    <tr>\n",
       "      <th>1</th>\n",
       "      <td>2</td>\n",
       "      <td>1.0</td>\n",
       "      <td>2</td>\n",
       "      <td>1</td>\n",
       "      <td>8</td>\n",
       "      <td>4</td>\n",
       "      <td>20</td>\n",
       "      <td>15</td>\n",
       "      <td>445</td>\n",
       "      <td>0.99</td>\n",
       "      <td>0.99</td>\n",
       "      <td>398,1</td>\n",
       "      <td>7962</td>\n",
       "      <td>NaN</td>\n",
       "      <td>NaN</td>\n",
       "      <td>NaN</td>\n",
       "      <td>NaN</td>\n",
       "      <td>D1</td>\n",
       "    </tr>\n",
       "    <tr>\n",
       "      <th>2</th>\n",
       "      <td>3</td>\n",
       "      <td>0.0</td>\n",
       "      <td>0</td>\n",
       "      <td>3</td>\n",
       "      <td>9</td>\n",
       "      <td>1</td>\n",
       "      <td>5</td>\n",
       "      <td>20</td>\n",
       "      <td>355</td>\n",
       "      <td>1.03</td>\n",
       "      <td>0.80</td>\n",
       "      <td>396,75</td>\n",
       "      <td>7935</td>\n",
       "      <td>Banking</td>\n",
       "      <td>C#</td>\n",
       "      <td>NaN</td>\n",
       "      <td>Business Application</td>\n",
       "      <td>D1</td>\n",
       "    </tr>\n",
       "    <tr>\n",
       "      <th>3</th>\n",
       "      <td>4</td>\n",
       "      <td>0.0</td>\n",
       "      <td>1</td>\n",
       "      <td>2</td>\n",
       "      <td>8</td>\n",
       "      <td>5</td>\n",
       "      <td>10</td>\n",
       "      <td>15</td>\n",
       "      <td>350</td>\n",
       "      <td>0.90</td>\n",
       "      <td>0.91</td>\n",
       "      <td>390,25</td>\n",
       "      <td>7805</td>\n",
       "      <td>Communication</td>\n",
       "      <td>C++</td>\n",
       "      <td>NaN</td>\n",
       "      <td>Real-Time application</td>\n",
       "      <td>D1</td>\n",
       "    </tr>\n",
       "    <tr>\n",
       "      <th>4</th>\n",
       "      <td>5</td>\n",
       "      <td>1.0</td>\n",
       "      <td>2</td>\n",
       "      <td>1</td>\n",
       "      <td>8</td>\n",
       "      <td>1</td>\n",
       "      <td>10</td>\n",
       "      <td>16</td>\n",
       "      <td>345</td>\n",
       "      <td>0.90</td>\n",
       "      <td>0.91</td>\n",
       "      <td>387,9</td>\n",
       "      <td>7758</td>\n",
       "      <td>Manufacturing</td>\n",
       "      <td>NaN</td>\n",
       "      <td>Waterfall</td>\n",
       "      <td>Real-Time Application</td>\n",
       "      <td>D1</td>\n",
       "    </tr>\n",
       "  </tbody>\n",
       "</table>\n",
       "</div>"
      ],
      "text/plain": [
       "   Project_No  Simple Actors  Average Actors  Complex Actors  UAW  Simple UC  \\\n",
       "0           1            1.0               1               2    9          6   \n",
       "1           2            1.0               2               1    8          4   \n",
       "2           3            0.0               0               3    9          1   \n",
       "3           4            0.0               1               2    8          5   \n",
       "4           5            1.0               2               1    8          1   \n",
       "\n",
       "   Average UC  Complex UC  UUCW   TCF   ECF Real_P20  \\\n",
       "0          10          15   355  0.81  0.84    398,5   \n",
       "1          20          15   445  0.99  0.99    398,1   \n",
       "2           5          20   355  1.03  0.80   396,75   \n",
       "3          10          15   350  0.90  0.91   390,25   \n",
       "4          10          16   345  0.90  0.91    387,9   \n",
       "\n",
       "   Real_Effort_Person_Hours         Sector Language Methodology  \\\n",
       "0                      7970  Manufacturing     Java         NaN   \n",
       "1                      7962            NaN      NaN         NaN   \n",
       "2                      7935        Banking       C#         NaN   \n",
       "3                      7805  Communication      C++         NaN   \n",
       "4                      7758  Manufacturing      NaN   Waterfall   \n",
       "\n",
       "         ApplicationType DataDonator  \n",
       "0                    NaN          D1  \n",
       "1                    NaN          D1  \n",
       "2   Business Application          D1  \n",
       "3  Real-Time application          D1  \n",
       "4  Real-Time Application          D1  "
      ]
     },
     "execution_count": 7,
     "metadata": {},
     "output_type": "execute_result"
    }
   ],
   "source": [
    "df['TCF'] = df['TCF'].apply(convert_dot)\n",
    "df['ECF'] = df['ECF'].apply(convert_dot)\n",
    "df.TCF = df.TCF.astype(float)\n",
    "df.ECF = df.ECF.astype(float)\n",
    "\n",
    "df.head()"
   ]
  },
  {
   "cell_type": "markdown",
   "metadata": {},
   "source": [
    "## Feature Extraction"
   ]
  },
  {
   "cell_type": "code",
   "execution_count": 8,
   "metadata": {
    "collapsed": true
   },
   "outputs": [],
   "source": [
    "# menghitung nilai UUCP\n",
    "df['UUCP'] = df['UAW'] + df['UUCW']\n",
    "\n",
    "# menghitung nilai UCP\n",
    "df['UCP'] = df['UUCP'] * df['TCF'] * df['ECF']\n",
    "\n",
    "# menghitung estimasi effort dalam man-hour\n",
    "df['Effort_Estimation'] = df['UCP'] * 20"
   ]
  },
  {
   "cell_type": "markdown",
   "metadata": {},
   "source": [
    "## Feature Selection"
   ]
  },
  {
   "cell_type": "code",
   "execution_count": 9,
   "metadata": {
    "collapsed": false
   },
   "outputs": [
    {
     "data": {
      "text/html": [
       "<div>\n",
       "<table border=\"1\" class=\"dataframe\">\n",
       "  <thead>\n",
       "    <tr style=\"text-align: right;\">\n",
       "      <th></th>\n",
       "      <th>Effort_Estimation</th>\n",
       "      <th>Real_Effort_Person_Hours</th>\n",
       "    </tr>\n",
       "  </thead>\n",
       "  <tbody>\n",
       "    <tr>\n",
       "      <th>40</th>\n",
       "      <td>2283.372</td>\n",
       "      <td>6232</td>\n",
       "    </tr>\n",
       "    <tr>\n",
       "      <th>26</th>\n",
       "      <td>2522.052</td>\n",
       "      <td>6787</td>\n",
       "    </tr>\n",
       "    <tr>\n",
       "      <th>37</th>\n",
       "      <td>3026.872</td>\n",
       "      <td>6360</td>\n",
       "    </tr>\n",
       "    <tr>\n",
       "      <th>59</th>\n",
       "      <td>3193.488</td>\n",
       "      <td>5880</td>\n",
       "    </tr>\n",
       "    <tr>\n",
       "      <th>44</th>\n",
       "      <td>3426.300</td>\n",
       "      <td>6062</td>\n",
       "    </tr>\n",
       "  </tbody>\n",
       "</table>\n",
       "</div>"
      ],
      "text/plain": [
       "    Effort_Estimation  Real_Effort_Person_Hours\n",
       "40           2283.372                      6232\n",
       "26           2522.052                      6787\n",
       "37           3026.872                      6360\n",
       "59           3193.488                      5880\n",
       "44           3426.300                      6062"
      ]
     },
     "execution_count": 9,
     "metadata": {},
     "output_type": "execute_result"
    }
   ],
   "source": [
    "df[['Effort_Estimation', 'Real_Effort_Person_Hours']].sort_values(by='Effort_Estimation', ascending=True).head()"
   ]
  },
  {
   "cell_type": "code",
   "execution_count": 10,
   "metadata": {
    "collapsed": true
   },
   "outputs": [],
   "source": [
    "# X = df['Effort_Estimation'].as_matrix().reshape(-1, 1)\n",
    "# y = df['Real_Effort_Person_Hours'].as_matrix()"
   ]
  },
  {
   "cell_type": "code",
   "execution_count": 27,
   "metadata": {
    "collapsed": false
   },
   "outputs": [
    {
     "data": {
      "text/plain": [
       "<matplotlib.axes._subplots.AxesSubplot at 0xd7037f0>"
      ]
     },
     "execution_count": 27,
     "metadata": {},
     "output_type": "execute_result"
    },
    {
     "data": {
      "image/png": "[encoded data removed]",
      "text/plain": [
       "<matplotlib.figure.Figure at 0xd6b8c50>"
      ]
     },
     "metadata": {},
     "output_type": "display_data"
    }
   ],
   "source": [
    "# df['Real_Effort_Person_Hours'].hist()\n",
    "sns.distplot(df['Real_Effort_Person_Hours'], bins=20)"
   ]
  },
  {
   "cell_type": "code",
   "execution_count": 16,
   "metadata": {
    "collapsed": false
   },
   "outputs": [
    {
     "data": {
      "text/html": [
       "<div>\n",
       "<table border=\"1\" class=\"dataframe\">\n",
       "  <thead>\n",
       "    <tr style=\"text-align: right;\">\n",
       "      <th></th>\n",
       "      <th>Effort_Estimation</th>\n",
       "      <th>Log_Real</th>\n",
       "    </tr>\n",
       "  </thead>\n",
       "  <tbody>\n",
       "    <tr>\n",
       "      <th>40</th>\n",
       "      <td>2283.372</td>\n",
       "      <td>8.737613</td>\n",
       "    </tr>\n",
       "    <tr>\n",
       "      <th>26</th>\n",
       "      <td>2522.052</td>\n",
       "      <td>8.822912</td>\n",
       "    </tr>\n",
       "    <tr>\n",
       "      <th>37</th>\n",
       "      <td>3026.872</td>\n",
       "      <td>8.757941</td>\n",
       "    </tr>\n",
       "    <tr>\n",
       "      <th>59</th>\n",
       "      <td>3193.488</td>\n",
       "      <td>8.679482</td>\n",
       "    </tr>\n",
       "    <tr>\n",
       "      <th>44</th>\n",
       "      <td>3426.300</td>\n",
       "      <td>8.709960</td>\n",
       "    </tr>\n",
       "  </tbody>\n",
       "</table>\n",
       "</div>"
      ],
      "text/plain": [
       "    Effort_Estimation  Log_Real\n",
       "40           2283.372  8.737613\n",
       "26           2522.052  8.822912\n",
       "37           3026.872  8.757941\n",
       "59           3193.488  8.679482\n",
       "44           3426.300  8.709960"
      ]
     },
     "execution_count": 16,
     "metadata": {},
     "output_type": "execute_result"
    }
   ],
   "source": [
    "# df['Log_Real'] = df['Real_Effort_Person_Hours'].apply(lambda x: np.log(x+1))\n",
    "# df[['Effort_Estimation', 'Log_Real']].sort_values(by='Effort_Estimation', ascending=True).head()"
   ]
  },
  {
   "cell_type": "code",
   "execution_count": 26,
   "metadata": {
    "collapsed": false
   },
   "outputs": [
    {
     "data": {
      "text/plain": [
       "<matplotlib.axes._subplots.AxesSubplot at 0xd04db70>"
      ]
     },
     "execution_count": 26,
     "metadata": {},
     "output_type": "execute_result"
    },
    {
     "data": {
      "image/png": "[encoded data removed]",
      "text/plain": [
       "<matplotlib.figure.Figure at 0xd082cc0>"
      ]
     },
     "metadata": {},
     "output_type": "display_data"
    }
   ],
   "source": [
    "# df['Real_Effort_Person_Hours'].hist()\n",
    "# sns.distplot(df['Log_Real'], bins=20)"
   ]
  },
  {
   "cell_type": "code",
   "execution_count": 22,
   "metadata": {
    "collapsed": true
   },
   "outputs": [],
   "source": [
    "X = df['Effort_Estimation'].as_matrix().reshape(-1, 1)\n",
    "# y = df['Log_Real'].as_matrix()\n",
    "\n",
    "y = df['Real_Effort_Person_Hours'].as_matrix()"
   ]
  },
  {
   "cell_type": "markdown",
   "metadata": {},
   "source": [
    "## Machine Learning"
   ]
  },
  {
   "cell_type": "code",
   "execution_count": 23,
   "metadata": {
    "collapsed": true
   },
   "outputs": [],
   "source": [
    "svr_lin = SVR(kernel='linear', C=1e3)\n",
    "lin_reg = linear_model.LinearRegression()\n",
    "\n",
    "y_reg = lin_reg.fit(X, y).predict(X)"
   ]
  },
  {
   "cell_type": "code",
   "execution_count": 24,
   "metadata": {
    "collapsed": false
   },
   "outputs": [
    {
     "data": {
      "text/plain": [
       "<module 'matplotlib.pyplot' from 'C:\\Program Files\\Anaconda2\\lib\\site-packages\\matplotlib\\pyplot.py'>"
      ]
     },
     "execution_count": 24,
     "metadata": {},
     "output_type": "execute_result"
    },
    {
     "data": {
      "image/png": "[encoded data removed]",
      "text/plain": [
       "<matplotlib.figure.Figure at 0xd04d048>"
      ]
     },
     "metadata": {},
     "output_type": "display_data"
    }
   ],
   "source": [
    "lw = 2\n",
    "plt.scatter(X, y, color='darkorange', label='data')\n",
    "plt.plot(X, y_reg, color='c', lw=lw, label='Linear model')\n",
    "plt.xlabel('Effort Estimation')\n",
    "plt.ylabel('Real Effort')\n",
    "plt.title('Linear Regression')\n",
    "plt.legend()\n",
    "plt"
   ]
  },
  {
   "cell_type": "code",
   "execution_count": 25,
   "metadata": {
    "collapsed": false
   },
   "outputs": [
    {
     "data": {
      "text/plain": [
       "9"
      ]
     },
     "execution_count": 25,
     "metadata": {},
     "output_type": "execute_result"
    }
   ],
   "source": [
    "prd = np.array([[1000]])\n",
    "y_predict = lin_reg.predict(prd)\n",
    "int(round(y_predict))"
   ]
  },
  {
   "cell_type": "code",
   "execution_count": null,
   "metadata": {
    "collapsed": true
   },
   "outputs": [],
   "source": []
  }
 ],
 "metadata": {
  "anaconda-cloud": {},
  "kernelspec": {
   "display_name": "Python [default]",
   "language": "python",
   "name": "python2"
  },
  "language_info": {
   "codemirror_mode": {
    "name": "ipython",
    "version": 2
   },
   "file_extension": ".py",
   "mimetype": "text/x-python",
   "name": "python",
   "nbconvert_exporter": "python",
   "pygments_lexer": "ipython2",
   "version": "2.7.12"
  }
 },
 "nbformat": 4,
 "nbformat_minor": 1
}
